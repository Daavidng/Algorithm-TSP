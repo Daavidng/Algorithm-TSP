{
 "cells": [
  {
   "cell_type": "markdown",
   "metadata": {},
   "source": [
    "<div class='alert alert-success'>\n",
    "    <h1 align=\"center\">Genetic Algorithm Assignment</h1> \n",
    "    <h3 align=\"center\">Artificial Intelligence Course (May 2021)</h3>\n",
    "</div>"
   ]
  },
  {
   "cell_type": "markdown",
   "metadata": {},
   "source": [
    "# Genetic Algorithm Assignment\n",
    "\n",
    "- This notebook is meant to guide you in your first full program for the Artificial Intelligence course. Instructions and convenience functions are prepared for you, but you will need to fill in various code cells in order for the notebook to be fully-functioning. These code cells are marked with <b>#TODO</b> comments. Feel free to modify any other code in this notebook as well.\n",
    "\n",
    "\n",
    "\n",
    "- The problem to be solved in this lab is the Travelling Salesman Problem. More details on this problem are provided in your lab sheet.\n"
   ]
  },
  {
   "cell_type": "markdown",
   "metadata": {},
   "source": [
    "## Requirements\n",
    " - Python + Jupyter Notebook\n"
   ]
  },
  {
   "cell_type": "markdown",
   "metadata": {},
   "source": [
    "## Methodology"
   ]
  },
  {
   "cell_type": "markdown",
   "metadata": {},
   "source": [
    "1.\tDownload the ‘Genetic_Algorithm_Lab.ipynb’ Jupyter notebook and open it up.\n",
    "2.\tImplement a genetic algorithm for solving the Travelling Salesman Problem (TSP) by replacing codes marked as #TODO in the notebook, hence implementing loading city coordinates from created models, parent selection, survivor selection, crossover, mutation, and plotting.\n",
    "3.\tImplement Stochastic Universal Sampling (SUS), as the parent selection and Scramble Mutation as mutation operator.\n",
    "4.\tTest your genetic algorithm with SUS selection and Scramble mutation on the datasets provided (“In Create Model section”, Includes FIVE (5) models with different number of points/cities). Provide a GA parameters table for each model like Table[1].\n",
    "<hr>\n",
    "<table>\n",
    "<tr>\n",
    "<th>Table[1] - GA parameters </th>\n",
    "</tr>\n",
    "</table>\n",
    "\n",
    "<table>\n",
    "<tr>\n",
    "<th>   Model  |</th>\n",
    "<th>   MaxIt  |</th>\n",
    "<th>   nPop      |</th>\n",
    "<th>   pc        |</th>\n",
    "<th>   nc        |</th>\n",
    "<th>   nm        |</th>\n",
    "<th>   beta (β)  |</th>\n",
    "<th>   BestSol   |</th>\n",
    "<th>   CPU Time  |</th>\n",
    "</tr>\n",
    "\n",
    "<hr>\n",
    "\n",
    "<table>\n",
    "<tr>\n",
    "<th>Table[2] - Abbreviations and Acronyms</th>\n",
    "</tr>\n",
    "<tr>\n",
    "<td style=\"text-align:left\"><b> MaxIt</b> : Maximum Number of Iterations.</td>\n",
    "</tr>\n",
    "<tr>\n",
    "<td style=\"text-align:left\"><b>nPop</b>  :  Population Size</td>\n",
    "</tr>\n",
    "<tr>\n",
    "<td style=\"text-align:left\"><b>pc</b>\t  :Crossover Percentage</td>\n",
    "</tr>\n",
    "<tr>\n",
    "<td style=\"text-align:left\"><b>nc</b>\t  :Number of Offsprings/ Crossover Population</td>\n",
    "</tr>\n",
    "<tr>\n",
    "<td style=\"text-align:left\"><b>nm</b>\t  : Number of Mutants</td>\n",
    "</tr>\n",
    "<tr>\n",
    "<td style=\"text-align:left\"><b>beta</b>  : Selection Pressure (β)</td>\n",
    "</tr>\n",
    "<tr>\n",
    "<td style=\"text-align:left\"><b>BestSol</b>:Best solution/fitness</td>\n",
    "</tr>\n",
    "<tr>\n",
    "<td style=\"text-align:left\"><b>CPU Time</b>:Time Taken</td>\n",
    "</tr>\n",
    "</table>\n",
    "<hr>\n",
    "\n",
    "5.\tEvaluate the performance (fitness and time taken) for each model and its’ components.\n",
    "6.\tOnce you have chosen the best selection function, try to fine tune the GA parameters to obtain the best solution. You may run your algorithms multiple times, use anything you want. A portion of your marks will come from how well your best route compares to all the routes submitted for this lab.\n",
    "7.\tDon’t forget to save your best solution and your best route for each model when you have gotten a good result as a png/jpg file, this is required for report!\n",
    "\n"
   ]
  },
  {
   "cell_type": "markdown",
   "metadata": {},
   "source": [
    "#### Report\n",
    "-\tYour report should present your results and your analysis of those results.\n",
    "-\tYour report should include the GA parameters analysis and the effect of these parameters to find the best solution.\n",
    "-\tThere is no page limit, but be sensible. Aim for 4-6 pages (less is better than more).\n",
    "-\tBe sure to report the best distance and distance matrix for each model in the report.\n",
    "#### Submission\n",
    "-\tYour submission comprises of ONE (1) Jupyter notebook, and ONE (1) PDF document (Word files not accepted).\n",
    "-\tSubmission deadline is exactly 7 days after your lab finishes. Submission is through a eWBLE. \n",
    "-\tNote: Submission deadline is 31 July 2021, for week 6 and week 7 labs. \n",
    "\n",
    "#### Competitive Mark Component\n",
    "-\tA portion of the marks for this lab (see the marking rubric for details) will be awarded based on the relative performance of your algorithm vs all submitted algorithms within your lab session.\n",
    "-\tMarks awarded for submitted routes will range from 5% to 10%, with the best submitted route awarded 10% and the worst submitted route awarded 5%. A linear interpolation will be used, with the following formula, where W is the worst distance, B is the best distance, and L is your submitted distance.\n"
   ]
  },
  {
   "cell_type": "markdown",
   "metadata": {},
   "source": [
    "## Graded Components Weightage\n",
    "- Presentation and Formatting (15%)\n",
    "- Results (10%)\n",
    "- Analysis and Justification (30%)\n",
    "- Code Quality (30%)\n",
    "- Competitive Mark Component (10%)"
   ]
  },
  {
   "cell_type": "markdown",
   "metadata": {},
   "source": [
    "#### Presentation and Formatting Rubrics\n",
    "- 0 = Unreadable report.\n",
    "- 1 = Difficult to read, with obvious errors in formatting, grammar etc.\n",
    "- 2\t= Acceptable, with some errors in formatting, grammar etc.\n",
    "- 3\t= Good readability, appropriate use of graphics/tables. Minimal grammatical and formatting errors.\n",
    "- 4\t= Outstanding presentation and formatting, no errors at all.\n",
    "\n",
    "#### Results Rubrics\n",
    "- 0\t= Not reported.\n",
    "- 1\t= Inaccurate or incomplete results.\n",
    "- 2\t= Basic results reported.\n",
    "- 3\t= Results reported well, with thought given to organizing and summarizing data appropriately.\n",
    "- 4\t= Reporting of results is impeccable, summary is easily viewable at a glance.\n",
    "\n",
    "#### Analysis and Justification Rubrics\n",
    "- 0\t= Not provided.\n",
    "- 1\t= Perfunctory analysis and/or justification, off-topic or nonsensical.\n",
    "- 2\t= Brief (but correct) analysis or justification provided.\n",
    "- 3\t= Good analysis and justification which clearly provides rationale/reasoning.\n",
    "- 4\t= Very good analysis and justification which convinces the reader.\n",
    "\n",
    "#### Code Quality Rubrics\n",
    "- 0\t= Not submitted.\n",
    "- 1\t= Very poor code (no cells, hard to read etc.) or provided code does not work.\n",
    "- 2\t= Working code.\n",
    "- 3\t= Code is well organised and commented.\n",
    "- 4\t= Code is easy to read because it is very well organised, showing proper planning.\n",
    "\n",
    "#### Tabulation of Marks\n",
    "- Each graded component receives a mark based on the above rubrics. This assigned mark N is then divided by the maximum mark for the rubric M and multipled by the weightage W. So the sum of your report marks S will be.\n"
   ]
  },
  {
   "cell_type": "markdown",
   "metadata": {},
   "source": [
    "## Import Libraries"
   ]
  },
  {
   "cell_type": "code",
   "execution_count": null,
   "metadata": {},
   "outputs": [],
   "source": [
    "import numpy as np\n",
    "import statistics\n",
    "import math\n",
    "import pandas as pd\n",
    "import random\n",
    "from matplotlib import pyplot as plt\n",
    "%matplotlib inline\n",
    "import warnings          # To ignore any warnings\n",
    "warnings.filterwarnings(\"ignore\")"
   ]
  },
  {
   "cell_type": "markdown",
   "metadata": {},
   "source": [
    "## Create Model"
   ]
  },
  {
   "cell_type": "code",
   "execution_count": null,
   "metadata": {
    "scrolled": true
   },
   "outputs": [],
   "source": [
    "##################### The First Model -  States of West Malaysia ########################\n",
    "#STATE:               (xxx,yyy)\n",
    "#--------------------------------------------------\n",
    "#  1.Perlis:          (45,420)    -> Kangar\n",
    "#  2.kedah:           (75,395)    -> Alor Setar\n",
    "#  3.Penang:          (25, 350)   -> George Town\n",
    "#  4.Kelantan:        (190,380)   -> Kota Bahru\n",
    "#  5.Terengganu:      (245,335)   -> Kota Terengganu \n",
    "#  6.Perak:           (100,195)   -> Ipoh\n",
    "#  7.Pahang:          (250,230)   -> Kuantan\n",
    "#  8.Selangor:        (125, 270)  -> kuala Lumpur\n",
    "#  9.Putrajaya:       (135,155)   -> Putrajaya\n",
    "# 10.Negeri Sembilan: (160,150)   -> Seramban\n",
    "# 11.Melaka:          (195,120)   -> Bandar Melaka\n",
    "# 12.Johor:           (300,70)    -> Johor Bahru\n",
    "\n",
    "# xxx=[ 45, 75, 25,190,245,100,250,125,135,160,195,300]\n",
    "# yyy=[420,395,350,380,335,195,230,270,155,150,120,70]\n",
    "\n",
    "\n",
    "\n",
    "#################### The Second Model - Highlights of malaysia ########################\n",
    "#Highlights:              (xxx,yyy)\n",
    "#--------------------------------------------------\n",
    "# 1. Cameron Highlands    (119,224)\n",
    "# 2. Genting Highlands    (158,152)\n",
    "# 3. Gunung Ledang        (198,97)\n",
    "# 4. Gunung Pulai         (243,59)\n",
    "# 5. Endau Rompin         (235,104)\n",
    "# 6. Kuala Gandah         (183,145)\n",
    "# 7. Taman Negara         (185,172)\n",
    "# 8. Lake Chini           (218,144)\n",
    "# 9. Bako National Park   (393,56)\n",
    "#10. Iban Longhouses Sibu (451,99)\n",
    "#11. Niah National Park   (572,205)\n",
    "#12. Mulu National Park   (605,177)\n",
    "#13. Mount Kinabalu       (709,282)\n",
    "#14. Poring Hot Springs   (719,298)\n",
    "#15. Turtle Island        (777,292)\n",
    "#16. Sepilok(Orang Utans) (766,227)\n",
    "#17. Kinabatangang River  (772,249)\n",
    "#18. Siapadan Diving      (799.188)\n",
    "#19. Danum Valley         (755,232)\n",
    "\n",
    "# xxx=[119, 158, 198, 243, 235, 183, 185, 218, 393, 451, 572, 605, 709, 719, 777, 766, 772, 799, 755]\n",
    "# yyy=[224, 152, 97, 59, 104, 145, 172, 144, 56, 99, 205, 177, 282, 298, 292, 227, 249, 188, 232]\n",
    "\n",
    "\n",
    "\n",
    "################### The Third Model - All Island of Malaysia ########################\n",
    "# Island :           (xxx,yyy)\n",
    "#--------------------------------------------------\n",
    "#  1.Langkawi        (51,599)\n",
    "#  2.Penang          (75,563) \n",
    "#  3.Pangkor         (133,353)\n",
    "#  4.Sibu            (487,195)\n",
    "#  5.Tioman          (501,229)\n",
    "#  6.Tenggol         (435,419)\n",
    "#  7.Kapas           (419,479)\n",
    "#  8.Redang          (403,531)\n",
    "#  9.Lang Tengah     (381,557)\n",
    "# 10.Perhentian      (341,577)\n",
    "# 11.Sipadan         (1507,327)\n",
    "# 12.Mabul           (1545,367)\n",
    "# 13.Kapalal         (1593,381)\n",
    "# 14.Mataking        (1631,449)\n",
    "# 15.Selingan        (1563,575)  (Turtle Island)\n",
    "# 16.Lankayan        (1501,629)\n",
    "# 17.Layang Layang   (1063,624)\n",
    "# 18.Tiga            (75,559)    (Survivor Island)\n",
    "# 19.Santubong       (731,155)\n",
    "# 20.Talang Talang   (627,201)\n",
    "# 21.Salang          (625,425)\n",
    "# 22.Bruit           (841,261)\n",
    "# 23.Patok           (799,399)\n",
    " \n",
    "# xxx=[51 ,75 ,133,487,501,435,419,403,381,341,1507,1545,1593,1631,1563,1501,1063,75 ,731,627,625,841,799]\n",
    "# yyy=[599,563,353,195,229,419,479,531,557,577,327 ,367 ,381 ,449 ,575 ,629 ,624 ,559,155,201,425,261,399]\n",
    "\n",
    "\n",
    "\n",
    "############## The Fourth Model/Crircle Model(Includes 20 cities)  #################\n",
    "# r = 10\n",
    "# t = np.linspace(-np.pi, np.pi, 20)\n",
    "# xxx = r*np.sin(t)\n",
    "# yyy = r*np.cos(t)\n",
    "\n",
    "\n",
    "\n",
    "# ############## The fifth Model/Crircle Model (Includes 22 cities)  #################\n",
    "# r = 10\n",
    "# t = np.linspace(-np.pi, np.pi, 25)\n",
    "# xxx = r*np.sin(t)\n",
    "# yyy = r*np.cos(t)\n",
    "\n",
    "\n",
    "\n",
    "# Number of Nodes/cities\n",
    "N = len(xxx)\n",
    "\n",
    "# Euclidean Distance Matrix (EDM)\n",
    "D = [ [0] * N for _ in range(N)]\n",
    "for i in range(N):\n",
    "    for j in range(N):\n",
    "        D[i][j] = math.sqrt((xxx[i]-xxx[j])**2+(yyy[i]-yyy[j])**2)\n",
    "        \n",
    "#df = pd.DataFrame(D)\n",
    "#df"
   ]
  },
  {
   "cell_type": "markdown",
   "metadata": {},
   "source": [
    "## Problem Definition"
   ]
  },
  {
   "cell_type": "code",
   "execution_count": null,
   "metadata": {},
   "outputs": [],
   "source": [
    "# Cost Function\n",
    "def TourLength(x, D):  \n",
    "    L=0   \n",
    "    if not x:\n",
    "        return\n",
    "    y = x.copy()\n",
    "    i=0\n",
    "    for i in range(len(y)-1):\n",
    "        L = L + D[y[i]][y[i+1]]\n",
    "    return L"
   ]
  },
  {
   "cell_type": "code",
   "execution_count": null,
   "metadata": {},
   "outputs": [],
   "source": [
    "# Define Optimization Problem\n",
    "problem = {\n",
    "        'CostFunction': TourLength,\n",
    "    };"
   ]
  },
  {
   "cell_type": "markdown",
   "metadata": {},
   "source": [
    "# Parameters of GA"
   ]
  },
  {
   "cell_type": "code",
   "execution_count": null,
   "metadata": {},
   "outputs": [],
   "source": [
    "# GA Parameters\n",
    "maxit = 20         # Maximum Number of Iterations\n",
    "npop = 40          # Population Size\n",
    "\n",
    "pc = 10                            # Crossover Percentage 10\n",
    "nc = int(np.round(pc*npop/2)*2)   # Number of Offsprings (Crossover Pop)\n",
    "nm = nc                           # Number of Mutants\n",
    "\n",
    "beta = .0012                   # Selection Pressure "
   ]
  },
  {
   "cell_type": "markdown",
   "metadata": {},
   "source": [
    "## Initialization"
   ]
  },
  {
   "cell_type": "code",
   "execution_count": null,
   "metadata": {},
   "outputs": [],
   "source": [
    "# Empty Individual Template\n",
    "empty_individual = {\n",
    "        'position': None,\n",
    "        'cost': None,\n",
    "}\n",
    "\n",
    "\n",
    "# Load Problem parameters\n",
    "CostFunction = problem['CostFunction']\n",
    "\n",
    "# Best Solution Ever Found\n",
    "bestsol = {\n",
    "    'position': None, \n",
    "    'cost': np.inf\n",
    "}\n",
    "    \n",
    "# Best Cost of Iterations\n",
    "bestcost = np.empty(maxit)\n",
    "    \n",
    "# Average Costs\n",
    "avg_best_costs = np.empty(maxit)"
   ]
  },
  {
   "cell_type": "code",
   "execution_count": null,
   "metadata": {},
   "outputs": [],
   "source": [
    "# Create Random Solution\n",
    "def CreateRandomSolution(N):\n",
    "    return list(np.random.permutation(range(N)))"
   ]
  },
  {
   "cell_type": "code",
   "execution_count": null,
   "metadata": {},
   "outputs": [],
   "source": [
    "# Create Initial Population\n",
    "pop = []\n",
    "for i in range(0, npop):\n",
    "    \n",
    "    # Create Empty Particle\n",
    "    pop.append(empty_individual.copy())\n",
    "    \n",
    "    # Initialize Random Position \n",
    "    pop[i]['position'] = CreateRandomSolution(N)\n",
    "    \n",
    "    # Evaluation\n",
    "    pop[i]['cost'] = CostFunction(pop[i]['position'], D)\n",
    "\n",
    "    #Initialize Global Best\n",
    "    if pop[i]['cost'] < bestsol['cost']:\n",
    "        bestsol['position'] = pop[i]['position'].copy()\n",
    "        bestsol['cost'] = pop[i]['cost']       "
   ]
  },
  {
   "cell_type": "markdown",
   "metadata": {},
   "source": [
    "# Main Loop of GA "
   ]
  },
  {
   "cell_type": "markdown",
   "metadata": {},
   "source": [
    "#### Crossover\n",
    "- The crossover function combines two parents in such a way that their children inherit some of each parent's characteristics. In the case of TSP, you will need to use crossover methods such as Single Point Crossover (other examples are listed in the lecture slides)."
   ]
  },
  {
   "cell_type": "code",
   "execution_count": null,
   "metadata": {},
   "outputs": [],
   "source": [
    "def crossover(parent1, parent2):\n",
    "    child1 = parent1.copy()\n",
    "    child2 = parent2.copy()\n",
    "    \n",
    "    # Determine Chromosome Length\n",
    "    n_len = len(parent1['position'])\n",
    "    \n",
    "    for _ in range(5):\n",
    "        # Determine Crossover Point\n",
    "        cut_point = random.randint(1,n_len-1) \n",
    "        # crossover point: start from 1 to n-1\n",
    "        \n",
    "        # Single-point Crossover\n",
    "        child1['position'] = parent1['position'][:cut_point] + parent2['position'][cut_point:]\n",
    "        child2['position'] = parent2['position'][:cut_point] + parent1['position'][cut_point:]\n",
    "    \n",
    "        R1 = list(set(parent2['position'][cut_point:]) & set(parent1['position'][:cut_point]))\n",
    "        R2 = list(set(parent1['position'][cut_point:]) & set(parent2['position'][:cut_point]))\n",
    "        \n",
    "        if (len(R1)!=len(R2)):\n",
    "            print(\"error!\")\n",
    "        \n",
    "        for k1 in range(len(R1)):\n",
    "            ii = child1['position'].index(R1[k1])\n",
    "            jj = child2['position'].index(R2[k1])\n",
    "            \n",
    "            temp = child1['position'][ii]\n",
    "            child1['position'][ii] = child2['position'][jj] \n",
    "            child2['position'][jj] = temp\n",
    "\n",
    "    return child1, child2 , cut_point"
   ]
  },
  {
   "cell_type": "markdown",
   "metadata": {},
   "source": [
    "#### Mutation\n",
    "- Mutations are small random changes which maintain/introduce diversity. By necessity, mutations must occur at low probability and avoid changing everything in a chromosome. As with crossover, mutation in TSP must respect the constraint that every City occurs exactly once in the Route."
   ]
  },
  {
   "cell_type": "code",
   "execution_count": null,
   "metadata": {},
   "outputs": [],
   "source": [
    "# Scramble Mutation \n",
    "def scramble_mutation(parent):\n",
    "    r = range(len(parent['position']))\n",
    "    \n",
    "    # Determine mutation points\n",
    "    m1, m2 = random.sample(r,2)\n",
    "    while (m1 >= m2) or ((m2 - m1) == (len(parent['position'])-1)): # 1 < num of genes in the subset < len(chromosome)\n",
    "        m1, m2 = random.sample(r,2)\n",
    "    \n",
    "    # Contiguous subset for scrambling\n",
    "    rs = range(m1, m2 + 1)\n",
    "    scrambled = np.random.permutation(rs) #Scramble the genes within mutation points (m1, m2)\n",
    "    \n",
    "    # Validation on scrambled and sample not to be the same\n",
    "    while True:\n",
    "        if (all(np.array(rs) == scrambled)):\n",
    "            scrambled = np.random.permutation(rs)\n",
    "        else: break\n",
    "    \n",
    "    child = parent.copy()\n",
    "    mutate_subset = []\n",
    "    \n",
    "    for i in range(len(rs)):\n",
    "        mutate_subset.append(parent['position'][scrambled[i]])\n",
    "        \n",
    "    for j in range(len(rs)):\n",
    "        child['position'][rs[j]] = mutate_subset[j]\n",
    "    \n",
    "    return child"
   ]
  },
  {
   "cell_type": "markdown",
   "metadata": {},
   "source": [
    "## Selection\n",
    "- Parent selection is the primary form of selection, and is used to create a mating pool."
   ]
  },
  {
   "cell_type": "markdown",
   "metadata": {},
   "source": [
    "### Stochastic Universal Sampling (SUS)"
   ]
  },
  {
   "cell_type": "code",
   "execution_count": null,
   "metadata": {},
   "outputs": [],
   "source": [
    "def sus_selection(Probabilities): \n",
    "    c = np.cumsum(Probabilities)\n",
    "    # Select two fixed points in a roulette wheel selection\n",
    "    r1 = sum(Probabilities)*np.random.rand()\n",
    "    r2 = 0.5 + r1\n",
    "    if r2 > 1:\n",
    "        r2 -= 1\n",
    "    ind1 = np.argwhere(r1 <= c)\n",
    "    ind2 = np.argwhere(r2 <= c)\n",
    "    return ind1[0][0], ind2[0][0]"
   ]
  },
  {
   "cell_type": "markdown",
   "metadata": {},
   "source": [
    "### Plot Solution\n",
    "- Shows the Iterations Information and plot them."
   ]
  },
  {
   "cell_type": "code",
   "execution_count": null,
   "metadata": {},
   "outputs": [],
   "source": [
    "def PlotSolution(soll):\n",
    "    sol = soll.copy()\n",
    "    sol.append(sol[0]) \n",
    "    nn = len(sol)\n",
    "    fig = plt.gcf()\n",
    "    plt.clf()\n",
    "    fig.canvas.draw()\n",
    "    plt.plot([xxx[sol[i]] for i in range(nn)], [yyy[sol[i]] for i in range(nn)], 'xb-')\n",
    "    plt.pause(0.001)\n",
    "    fig.canvas.draw()"
   ]
  },
  {
   "cell_type": "markdown",
   "metadata": {},
   "source": [
    "## Time\n",
    "- Tic\n",
    "- Toc\n"
   ]
  },
  {
   "cell_type": "code",
   "execution_count": null,
   "metadata": {},
   "outputs": [],
   "source": [
    "def tic():\n",
    "    import time\n",
    "    global startTime_for_tictoc\n",
    "    startTime_for_tictoc = time.time()"
   ]
  },
  {
   "cell_type": "code",
   "execution_count": null,
   "metadata": {},
   "outputs": [],
   "source": [
    "def toc():\n",
    "    import time, math;\n",
    "    if 'startTime_for_tictoc' in globals():\n",
    "        dt = math.floor(100*(time.time() - startTime_for_tictoc))/100.\n",
    "        print('Elapsed time is {} second(s).'.format(dt))\n",
    "    else:\n",
    "        print('Start time not set. You should call tic before toc.')"
   ]
  },
  {
   "cell_type": "markdown",
   "metadata": {},
   "source": [
    "## Main Loop"
   ]
  },
  {
   "cell_type": "markdown",
   "metadata": {},
   "source": [
    "#### Running Genetic Algorithm\n",
    "- The entire genetic algorithm needs to initialize a Route of City instances, then iteratively generate new generations. Take note that, unlike all the cells above, the cell below is NOT a function. Various parameters are set right at the top (you should set them to something reasonable)."
   ]
  },
  {
   "cell_type": "code",
   "execution_count": null,
   "metadata": {},
   "outputs": [],
   "source": [
    "# Main Loop\n",
    "tic()\n",
    "\n",
    "for it in range(maxit):\n",
    "    \n",
    "    # Calculate Selection Probabilities based on costs \n",
    "    costs = np.array([x['cost'] for x in pop])\n",
    "    probs = np.exp(-beta*costs)/np.sum(np.exp(-beta*costs))\n",
    "    \n",
    "    popc = []\n",
    "    for _ in range(nc//2):\n",
    "        \n",
    "        # SUS Selection\n",
    "        p1 = pop[sus_selection(probs)[0]]\n",
    "        p2 = pop[sus_selection(probs)[1]]\n",
    "        \n",
    "        # Perform Crossover\n",
    "        c1, c2, _ = crossover(p1, p2) # c1: child1 & c2: child2\n",
    "\n",
    "        # Perform Mutation\n",
    "        c1 = scramble_mutation(c1)\n",
    "        c2 = scramble_mutation(c2)\n",
    "\n",
    "        # Evaluate First Offspring\n",
    "        c1['cost'] = CostFunction(c1['position'], D)\n",
    "        if c1['cost'] < bestsol['cost']:\n",
    "            bestsol = c1.copy()\n",
    "\n",
    "        # Evaluate Second Offspring\n",
    "        c2['cost'] = CostFunction(c2['position'], D)\n",
    "        if c2['cost'] < bestsol['cost']:\n",
    "            bestsol = c2.copy()\n",
    "\n",
    "        # Add Offsprings to popc\n",
    "        popc.append(c1)\n",
    "        popc.append(c2)\n",
    "\n",
    "\n",
    "    # Merge, Sort and Select\n",
    "    pop += popc\n",
    "    pop = sorted(pop, key=lambda x: x['cost'])\n",
    "    pop = pop[0:npop]\n",
    "\n",
    "    # Store Best Cost\n",
    "    bestcost[it] = bestsol['cost']\n",
    "    avg_best_costs[it] = sum(bestcost)/it\n",
    "\n",
    "    # Show Iteration Information\n",
    "    print(\"Iteration {}: Best Cost = {}\".format(it, bestcost[it]))\n",
    "    PlotSolution(bestsol['position'])\n",
    "                 \n",
    "toc()"
   ]
  },
  {
   "cell_type": "markdown",
   "metadata": {},
   "source": [
    " ## Results"
   ]
  },
  {
   "cell_type": "code",
   "execution_count": null,
   "metadata": {},
   "outputs": [],
   "source": [
    "import matplotlib.pyplot as plt\n",
    "# Results\n",
    "plt.plot(bestcost)\n",
    "\n",
    "# plt.semilogy(out.bestcost)\n",
    "plt.xlim(0, maxit)\n",
    "plt.xlabel('Iterations')\n",
    "plt.ylabel('Best Cost')\n",
    "plt.title('Genetic Algorithm')\n",
    "plt.grid(True)\n",
    "plt.show()"
   ]
  },
  {
   "cell_type": "code",
   "execution_count": null,
   "metadata": {},
   "outputs": [],
   "source": []
  }
 ],
 "metadata": {
  "kernelspec": {
   "display_name": "Python 3",
   "language": "python",
   "name": "python3"
  },
  "language_info": {
   "codemirror_mode": {
    "name": "ipython",
    "version": 3
   },
   "file_extension": ".py",
   "mimetype": "text/x-python",
   "name": "python",
   "nbconvert_exporter": "python",
   "pygments_lexer": "ipython3",
   "version": "3.8.5"
  },
  "widgets": {
   "application/vnd.jupyter.widget-state+json": {
    "state": {},
    "version_major": 2,
    "version_minor": 0
   }
  }
 },
 "nbformat": 4,
 "nbformat_minor": 2
}
